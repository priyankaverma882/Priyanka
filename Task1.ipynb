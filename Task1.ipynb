{
 "cells": [
  {
   "cell_type": "code",
   "execution_count": 1,
   "metadata": {},
   "outputs": [
    {
     "name": "stdout",
     "output_type": "stream",
     "text": [
      "False\n",
      "False\n",
      "True\n"
     ]
    }
   ],
   "source": [
    "a=10\n",
    "b=20\n",
    "print(a>b)\n",
    "print(a>b and b>a)\n",
    "print(a>b or b>a)"
   ]
  },
  {
   "cell_type": "code",
   "execution_count": 2,
   "metadata": {},
   "outputs": [
    {
     "name": "stdout",
     "output_type": "stream",
     "text": [
      "Good morning\n",
      "What is your namePriyanka\n",
      "good morning your name is :  Priyanka\n",
      "False\n"
     ]
    }
   ],
   "source": [
    "print(\"Good morning\")\n",
    "a = input(\"What is your name\")\n",
    "print(\"good morning your name is : \" , a)\n",
    "print(a<\"10\")"
   ]
  },
  {
   "cell_type": "markdown",
   "metadata": {},
   "source": [
    "# if-else\n"
   ]
  },
  {
   "cell_type": "code",
   "execution_count": 3,
   "metadata": {},
   "outputs": [
    {
     "name": "stdout",
     "output_type": "stream",
     "text": [
      "False\n"
     ]
    }
   ],
   "source": [
    "a=21\n",
    "b=13\n",
    "if(a==b):\n",
    "    print(\"true\")\n",
    "else:\n",
    "    print(\"False\")\n",
    "    \n"
   ]
  },
  {
   "cell_type": "markdown",
   "metadata": {},
   "source": [
    "# For Loop"
   ]
  },
  {
   "cell_type": "code",
   "execution_count": 4,
   "metadata": {},
   "outputs": [
    {
     "name": "stdout",
     "output_type": "stream",
     "text": [
      "1 2 3 4 5 6 7 8 9 10 \n",
      "2 4 6 8 10 12 14 16 18 20 \n",
      "3 6 9 12 15 18 21 24 27 30 \n",
      "4 8 12 16 20 24 28 32 36 40 \n",
      "5 10 15 20 25 30 35 40 45 50 \n",
      "6 12 18 24 30 36 42 48 54 60 \n",
      "7 14 21 28 35 42 49 56 63 70 \n",
      "8 16 24 32 40 48 56 64 72 80 \n",
      "9 18 27 36 45 54 63 72 81 90 \n",
      "10 20 30 40 50 60 70 80 90 100 \n"
     ]
    }
   ],
   "source": [
    "import sys\n",
    "for i in range(1,11):\n",
    "    for j in range(1,11):\n",
    "        k=i*j\n",
    "        print(k, end=' ')\n",
    "    print()\n"
   ]
  },
  {
   "cell_type": "markdown",
   "metadata": {},
   "source": [
    "# List , Tupple , Dictionary"
   ]
  },
  {
   "cell_type": "code",
   "execution_count": 5,
   "metadata": {},
   "outputs": [
    {
     "name": "stdout",
     "output_type": "stream",
     "text": [
      "enter ur namePriyanka\n",
      "enter ur mobile no3345555666\n",
      "age23\n",
      "['Priyanka', '3345555666', '23']\n"
     ]
    }
   ],
   "source": [
    "a=input(\"enter ur name\")\n",
    "li=[]\n",
    "li.append(a)\n",
    "b=input(\"enter ur mobile no\")\n",
    "li.append(b)\n",
    "c=input(\"age\")\n",
    "li.append(c)\n",
    "print(li)\n"
   ]
  },
  {
   "cell_type": "code",
   "execution_count": 6,
   "metadata": {},
   "outputs": [
    {
     "name": "stdout",
     "output_type": "stream",
     "text": [
      "100\n",
      "priyanka\n",
      "19\n",
      "100\n",
      "45678\n",
      "priyanka\n",
      "19\n",
      "100\n",
      "45678\n"
     ]
    }
   ],
   "source": [
    "student=('priyanka',19,100,45678)\n",
    "\n",
    "print(student[2])\n",
    "\n",
    "for i in student:\n",
    "    print(i)\n",
    "\n",
    "for i in range(0,len(student)):\n",
    "    print(student[i])\n",
    "\n"
   ]
  },
  {
   "cell_type": "code",
   "execution_count": 7,
   "metadata": {},
   "outputs": [
    {
     "name": "stdout",
     "output_type": "stream",
     "text": [
      "{'name': 'priyanka', 'age': 19, 'marks': 100, 'mobile': 2345}\n",
      "name priyanka\n",
      "age 19\n",
      "marks 100\n",
      "mobile 2345\n",
      "priyanka\n",
      "{'age': 19, 'marks': 100, 'mobile': 2345}\n",
      "0\n",
      "2\n",
      "4\n",
      "6\n",
      "8\n",
      "10\n",
      "2\n",
      "5\n",
      "8\n",
      "11\n",
      "0\n",
      "11\n",
      "2\n",
      "13\n",
      "0\n",
      "11\n",
      "-8\n",
      "3\n",
      "14\n",
      "-5\n",
      "5\n",
      "10\n",
      "15\n",
      "20\n",
      "25\n",
      "30\n",
      "35\n",
      "40\n",
      "45\n",
      "50\n",
      "6\n"
     ]
    }
   ],
   "source": [
    "student={\"name\":\"priyanka\",\"age\":19,\"marks\":100,\"mobile\":2345}\n",
    "print(student)\n",
    "\n",
    "\n",
    "for key,value in student.items():\n",
    "    print(key,value)\n",
    "\n",
    "print(student['name'])\n",
    "\n",
    "\n",
    "student.pop(\"name\")\n",
    "\n",
    "print(student)\n",
    "\n",
    "\n",
    "for i in range(0,11):\n",
    "    if(i%2==0):\n",
    "        print(i)\n",
    "\n",
    "\n",
    "for i in range(2,12,3):\n",
    "    print(i)\n",
    "\n",
    "\n",
    "for i in range(0,4):\n",
    "    if(i%2==0):\n",
    "        print(i)\n",
    "        print(i+11)\n",
    "\n",
    "\n",
    "for i in range(0,6):\n",
    "    if(i%3==0):\n",
    "        print(i)\n",
    "    elif(i%3==1):\n",
    "        print(i+10)\n",
    "    else:\n",
    "        print(i-10)\n",
    "\n",
    "\n",
    "for i in range(1,11):\n",
    "    i=i*5\n",
    "    print(i)\n",
    "\n",
    "fact=1\n",
    "num=4\n",
    "for i in range(1,num):\n",
    "    fact = fact * i\n",
    "print(fact)\n",
    "      \n",
    "\n"
   ]
  },
  {
   "cell_type": "code",
   "execution_count": 8,
   "metadata": {},
   "outputs": [
    {
     "name": "stdout",
     "output_type": "stream",
     "text": [
      "priyanka\n",
      "2\n",
      "3\n",
      "4\n",
      "['priyanka', 2, 3, 8384003898]\n",
      "['priyanka', 2, 3, 8384003898, 'gurugram']\n",
      "['priyanka', 2, 3, 'gurugram']\n",
      "['priyanka', 3, 'gurugram']\n",
      "['priyanka', 3, 'gurugram', ['parth', 'niya', 'miya']]\n",
      "['priyanka', 3, 'gurugram', ['parth', 'niya', 'miya']]\n",
      "['parth', 'niya', 'miya']\n",
      "priyanka , parth\n",
      "3 , niya\n",
      "gurugram , miya\n",
      "[10, 42, 30]\n"
     ]
    }
   ],
   "source": [
    "student=[\"priyanka\",2,3,4]\n",
    "for i in range(0,len(student)):\n",
    "    print(student[i])\n",
    "\n",
    "student[3] = 8384003898\n",
    "\n",
    "print(student)\n",
    "\n",
    "student.append(\"gurugram\")\n",
    "\n",
    "print(student)\n",
    "\n",
    "student.pop(3)\n",
    "\n",
    "\n",
    "print(student)\n",
    "\n",
    "student.remove(2)\n",
    "\n",
    "print(student)\n",
    "\n",
    "friend=[\"parth\",\"niya\",\"miya\"]\n",
    "\n",
    "student.append(friend)\n",
    "\n",
    "print(student)\n",
    "\n",
    "print(student)\n",
    "print(friend)\n",
    "\n",
    "student.append(\"ro\")\n",
    "\n",
    "for x,y in zip(student,friend):\n",
    "    print(x,\",\",y)\n",
    "\n",
    "x=[10,20,30]\n",
    "y=x\n",
    "x[1]=42\n",
    "print(y)\n",
    "\n",
    "\n"
   ]
  },
  {
   "cell_type": "code",
   "execution_count": 9,
   "metadata": {},
   "outputs": [
    {
     "name": "stdout",
     "output_type": "stream",
     "text": [
      "45\n",
      "helo\n",
      "365\n"
     ]
    }
   ],
   "source": [
    "d={1:'2','age':45}\n",
    "print(d['age'])\n",
    "hi={'ki':[1,2,3,{'john':['oh','man','valid',{'ecraft':[1,2,3,'helo']}]}]}\n",
    "print(hi['ki'][3]['john'][3]['ecraft'][3])\n",
    "a={'sp500':{'today':300,'yesterday':250},'info':['time',[24,7,365]]}\n",
    "print(a['info'][1][2])\n",
    "\n",
    "\n"
   ]
  },
  {
   "cell_type": "code",
   "execution_count": 10,
   "metadata": {},
   "outputs": [
    {
     "name": "stdout",
     "output_type": "stream",
     "text": [
      "Name:  hari\n",
      "Age: 50\n",
      "[1, 1, 2, 3, 5, 8, 13, 21, 34, 55, 89]\n"
     ]
    }
   ],
   "source": [
    "def printinfo(name,age):\n",
    "    print(\"Name: \",name)\n",
    "    print(\"Age:\",age)\n",
    "    return\n",
    "printinfo(age=50, name=\"hari\")\n",
    "\n",
    "\n",
    "def fib(n):\n",
    "    result=[]\n",
    "    a,b = 0,1\n",
    "    while b<n:\n",
    "        result.append(b)\n",
    "        a,b=b,a+b\n",
    "    return result\n",
    "if(__name__ == \"__main__\"):\n",
    "    f=fib(100)\n",
    "    print(f)\n"
   ]
  },
  {
   "cell_type": "markdown",
   "metadata": {},
   "source": [
    "# Calculator"
   ]
  },
  {
   "cell_type": "code",
   "execution_count": 11,
   "metadata": {},
   "outputs": [
    {
     "name": "stdout",
     "output_type": "stream",
     "text": [
      "Enter first number1\n",
      "Enter secong number2\n",
      "Enter operation+\n",
      "3\n"
     ]
    }
   ],
   "source": [
    "a=int(input(\"Enter first number\"))\n",
    "b=int(input(\"Enter secong number\"))\n",
    "c=input(\"Enter operation\")\n",
    "if(c==\"+\"):\n",
    "    d=a+b\n",
    "    print(d)\n",
    "elif(c==\"-\"):\n",
    "    print(a-b)\n",
    "elif(c==\"*\"):\n",
    "    print(a*b)\n",
    "elif(c==\"/\"):\n",
    "    print(a/b)\n",
    "    \n",
    "    "
   ]
  },
  {
   "cell_type": "code",
   "execution_count": null,
   "metadata": {},
   "outputs": [],
   "source": []
  }
 ],
 "metadata": {
  "kernelspec": {
   "display_name": "Python 3",
   "language": "python",
   "name": "python3"
  },
  "language_info": {
   "codemirror_mode": {
    "name": "ipython",
    "version": 3
   },
   "file_extension": ".py",
   "mimetype": "text/x-python",
   "name": "python",
   "nbconvert_exporter": "python",
   "pygments_lexer": "ipython3",
   "version": "3.7.3"
  }
 },
 "nbformat": 4,
 "nbformat_minor": 2
}
